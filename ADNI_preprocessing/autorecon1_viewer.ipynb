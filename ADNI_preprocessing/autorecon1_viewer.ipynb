{
 "cells": [
  {
   "cell_type": "code",
   "execution_count": 4,
   "metadata": {},
   "outputs": [
    {
     "name": "stdout",
     "output_type": "stream",
     "text": [
      "autorecon1_viewer.ipynb\n",
      "brainmask.nii.gz\n",
      "build_freesurfer.sh\n",
      "fetch_preprocessed\n",
      "freesurfer-Linux-centos6_x86_64-stable-pub-v6.0.0.tar.gz\n",
      "fsl_script.ipynb\n",
      "hdr_img2nii.py\n",
      "output_images\n",
      "README.md\n",
      "test_freesurfer_build.sh\n",
      "test_images\n",
      "freesurfer bin already exists\n",
      "Reading package lists... Done\n",
      "Building dependency tree       \n",
      "Reading state information... Done\n",
      "bc is already the newest version (1.07.1-2).\n",
      "unzip is already the newest version (6.0-21ubuntu1).\n",
      "libjpeg62-dev is already the newest version (1:6b2-3).\n",
      "tcsh is already the newest version (6.20.00-7).\n",
      "binutils is already the newest version (2.30-21ubuntu1~18.04.2).\n",
      "libgomp1 is already the newest version (8.4.0-1ubuntu1~18.04).\n",
      "perl is already the newest version (5.26.1-6ubuntu0.3).\n",
      "psmisc is already the newest version (23.1-1ubuntu0.1).\n",
      "sudo is already the newest version (1.8.21p2-3ubuntu1.2).\n",
      "tar is already the newest version (1.29b-2ubuntu0.1).\n",
      "uuid-dev is already the newest version (2.31.1-0.4ubuntu3.6).\n",
      "vim-common is already the newest version (2:8.0.1453-1ubuntu1.3).\n",
      "The following packages were automatically installed and are no longer required:\n",
      "  cdbs debhelper dh-autoreconf dh-strip-nondeterminism dh-translations\n",
      "  gdal-data ibverbs-providers intltool jq libaec0 libarchive-cpio-perl\n",
      "  libarchive-zip-perl libarmadillo8 libarpack2 libavcodec-dev libavformat-dev\n",
      "  libavresample-dev libavutil-dev libblas-dev libbz2-dev libcharls1 libdap25\n",
      "  libdapclient6v5 libdc1394-22-dev libepsilon1 libexif-dev libexif-doc\n",
      "  libexif12 libfabric1 libfile-stripnondeterminism-perl libfile-which-perl\n",
      "  libfreexl1 libfyba0 libgd3 libgdal20 libgdcm2-dev libgdcm2.8 libgeos-3.6.2\n",
      "  libgeos-c1v5 libgeotiff2 libgl2ps1.4 libgphoto2-6 libgphoto2-dev\n",
      "  libgphoto2-l10n libgphoto2-port12 libhdf4-0-alt libhdf5-100\n",
      "  libhdf5-openmpi-100 libhwloc-plugins libhwloc5 libibverbs1 libilmbase-dev\n",
      "  libilmbase12 libjbig-dev libjq1 libkmlbase1 libkmldom1 libkmlengine1\n",
      "  liblapack-dev liblept5 liblzma-dev libminizip1 libmysqlclient20\n",
      "  libncurses5-dev libnetcdf-c++4 libnetcdf13 libnl-route-3-200 libodbc1\n",
      "  libogdi3.2 libonig4 libopencv-calib3d3.2 libopencv-contrib3.2\n",
      "  libopencv-core-dev libopencv-core3.2 libopencv-features2d3.2\n",
      "  libopencv-flann-dev libopencv-flann3.2 libopencv-highgui3.2\n",
      "  libopencv-imgcodecs-dev libopencv-imgcodecs3.2 libopencv-imgproc-dev\n",
      "  libopencv-imgproc3.2 libopencv-ml-dev libopencv-ml3.2 libopencv-objdetect3.2\n",
      "  libopencv-photo-dev libopencv-photo3.2 libopencv-shape-dev\n",
      "  libopencv-shape3.2 libopencv-stitching3.2 libopencv-superres-dev\n",
      "  libopencv-superres3.2 libopencv-ts-dev libopencv-video-dev\n",
      "  libopencv-video3.2 libopencv-videoio-dev libopencv-videoio3.2\n",
      "  libopencv-videostab3.2 libopencv-viz-dev libopencv-viz3.2 libopencv3.2-java\n",
      "  libopencv3.2-jni libopenexr-dev libopenexr22 libopenmpi2 libpng-dev\n",
      "  libpng-tools libpoppler73 libpq5 libproj12 libpsm-infinipath1 libqhull7\n",
      "  libraw1394-dev libraw1394-tools librdmacm1 libreadline-dev libsocket++1\n",
      "  libspatialite7 libsuperlu5 libswresample-dev libswscale-dev libsz2\n",
      "  libtbb-dev libtbb2 libtesseract4 libtiffxx5 libtinfo-dev liburiparser1\n",
      "  libvtk6.3 libxerces-c3.2 mysql-common ocl-icd-libopencl1 odbcinst\n",
      "  odbcinst1debian2 opencv-data openmpi-bin openmpi-common poppler-data\n",
      "  proj-bin proj-data python3-scour scour\n",
      "Use 'sudo apt autoremove' to remove them.\n",
      "0 upgraded, 0 newly installed, 0 to remove and 97 not upgraded.\n",
      "\u001b[33mDEPRECATION: Python 2.7 reached the end of its life on January 1st, 2020. Please upgrade your Python as Python 2.7 is no longer maintained. A future version of pip will drop support for Python 2.7. More details about Python 2 support in pip, can be found at https://pip.pypa.io/en/latest/development/release-process/#python-2-support\u001b[0m\n",
      "Requirement already satisfied: nibabel in /usr/local/lib/python2.7/dist-packages (2.5.1)\n",
      "Requirement already satisfied: six>=1.3 in /usr/lib/python2.7/dist-packages (from nibabel) (1.11.0)\n",
      "Requirement already satisfied: numpy>=1.8 in /usr/local/lib/python2.7/dist-packages (from nibabel) (1.16.6)\n",
      "Requirement already satisfied: bz2file; python_version < \"3.0\" in /usr/local/lib/python2.7/dist-packages (from nibabel) (0.98)\n",
      "mkdir: cannot create directory ‘/usr/local/freesurfer/subjects’: File exists\n",
      "must use source to execute the script!\n"
     ]
    }
   ],
   "source": [
    "!ls\n",
    "#must configure ubuntu to bash first: root dpkg-reconfigure dash\n",
    "!source /projects/shibo/Visual-Feature-Attribution-Using-Wasserstein-GANs-Pytorch/ADNI_preprocessing/build_freesurfer.sh"
   ]
  },
  {
   "cell_type": "code",
   "execution_count": 7,
   "metadata": {},
   "outputs": [
    {
     "name": "stdout",
     "output_type": "stream",
     "text": [
      "/bin/sh: recon-all: command not found\r\n"
     ]
    }
   ],
   "source": []
  },
  {
   "cell_type": "code",
   "execution_count": null,
   "metadata": {},
   "outputs": [],
   "source": []
  },
  {
   "cell_type": "markdown",
   "metadata": {},
   "source": [
    "### motioncor step "
   ]
  },
  {
   "cell_type": "code",
   "execution_count": 5,
   "metadata": {},
   "outputs": [
    {
     "name": "stdout",
     "output_type": "stream",
     "text": [
      "/bin/sh: recon-all: command not found\r\n"
     ]
    }
   ],
   "source": [
    "!recon-all -i test_images/002_S_0619/ADNI_002_S_0619_MR_MP-RAGE__br_raw_20060601215738863_1_S15147_I16392.hdr -subject recon_test -autorecon1"
   ]
  }
 ],
 "metadata": {
  "kernelspec": {
   "display_name": "Python 3",
   "language": "python",
   "name": "python3"
  },
  "language_info": {
   "codemirror_mode": {
    "name": "ipython",
    "version": 3
   },
   "file_extension": ".py",
   "mimetype": "text/x-python",
   "name": "python",
   "nbconvert_exporter": "python",
   "pygments_lexer": "ipython3",
   "version": "3.6.9"
  }
 },
 "nbformat": 4,
 "nbformat_minor": 2
}
