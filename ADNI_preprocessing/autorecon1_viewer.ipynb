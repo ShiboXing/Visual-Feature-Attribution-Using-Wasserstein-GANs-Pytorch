{
 "cells": [
  {
   "cell_type": "markdown",
   "metadata": {},
   "source": [
    "##### build freesurfer and set up environmental variables"
   ]
  },
  {
   "cell_type": "code",
   "execution_count": 5,
   "metadata": {},
   "outputs": [
    {
     "name": "stdout",
     "output_type": "stream",
     "text": [
      "freesurfer bin already exists\n",
      "Reading package lists... Done\n",
      "Building dependency tree       \n",
      "Reading state information... Done\n",
      "bc is already the newest version (1.07.1-2).\n",
      "unzip is already the newest version (6.0-21ubuntu1).\n",
      "libjpeg62-dev is already the newest version (1:6b2-3).\n",
      "tcsh is already the newest version (6.20.00-7).\n",
      "binutils is already the newest version (2.30-21ubuntu1~18.04.3).\n",
      "libgomp1 is already the newest version (8.4.0-1ubuntu1~18.04).\n",
      "perl is already the newest version (5.26.1-6ubuntu0.3).\n",
      "psmisc is already the newest version (23.1-1ubuntu0.1).\n",
      "tar is already the newest version (1.29b-2ubuntu0.1).\n",
      "uuid-dev is already the newest version (2.31.1-0.4ubuntu3.6).\n",
      "vim-common is already the newest version (2:8.0.1453-1ubuntu1.3).\n",
      "The following packages were automatically installed and are no longer required:\n",
      "  cdbs debhelper dh-autoreconf dh-strip-nondeterminism dh-translations\n",
      "  gdal-data ibverbs-providers intltool jq libaec0 libarchive-cpio-perl\n",
      "  libarchive-zip-perl libarmadillo8 libarpack2 libavcodec-dev libavformat-dev\n",
      "  libavresample-dev libavutil-dev libblas-dev libbz2-dev libcharls1 libdap25\n",
      "  libdapclient6v5 libdc1394-22-dev libepsilon1 libexif-dev libexif-doc\n",
      "  libexif12 libfabric1 libfile-stripnondeterminism-perl libfile-which-perl\n",
      "  libfreexl1 libfyba0 libgd3 libgdal20 libgdcm2-dev libgdcm2.8 libgeos-3.6.2\n",
      "  libgeos-c1v5 libgeotiff2 libgl2ps1.4 libgphoto2-6 libgphoto2-dev\n",
      "  libgphoto2-l10n libgphoto2-port12 libhdf4-0-alt libhdf5-100\n",
      "  libhdf5-openmpi-100 libhwloc-plugins libhwloc5 libibverbs1 libilmbase-dev\n",
      "  libilmbase12 libjbig-dev libjq1 libkmlbase1 libkmldom1 libkmlengine1\n",
      "  liblapack-dev liblept5 liblzma-dev libminizip1 libmysqlclient20\n",
      "  libncurses5-dev libnetcdf-c++4 libnetcdf13 libnl-route-3-200 libodbc1\n",
      "  libogdi3.2 libonig4 libopencv-calib3d3.2 libopencv-contrib3.2\n",
      "  libopencv-core-dev libopencv-core3.2 libopencv-features2d3.2\n",
      "  libopencv-flann-dev libopencv-flann3.2 libopencv-highgui3.2\n",
      "  libopencv-imgcodecs-dev libopencv-imgcodecs3.2 libopencv-imgproc-dev\n",
      "  libopencv-imgproc3.2 libopencv-ml-dev libopencv-ml3.2 libopencv-objdetect3.2\n",
      "  libopencv-photo-dev libopencv-photo3.2 libopencv-shape-dev\n",
      "  libopencv-shape3.2 libopencv-stitching3.2 libopencv-superres-dev\n",
      "  libopencv-superres3.2 libopencv-ts-dev libopencv-video-dev\n",
      "  libopencv-video3.2 libopencv-videoio-dev libopencv-videoio3.2\n",
      "  libopencv-videostab3.2 libopencv-viz-dev libopencv-viz3.2 libopencv3.2-java\n",
      "  libopencv3.2-jni libopenexr-dev libopenexr22 libopenmpi2 libpng-dev\n",
      "  libpng-tools libpoppler73 libpq5 libproj12 libpsm-infinipath1 libqhull7\n",
      "  libraw1394-dev libraw1394-tools librdmacm1 libreadline-dev libsocket++1\n",
      "  libspatialite7 libsuperlu5 libswresample-dev libswscale-dev libsz2\n",
      "  libtbb-dev libtbb2 libtesseract4 libtiffxx5 libtinfo-dev liburiparser1\n",
      "  libvtk6.3 libxerces-c3.2 mysql-common ocl-icd-libopencl1 odbcinst\n",
      "  odbcinst1debian2 opencv-data openmpi-bin openmpi-common poppler-data\n",
      "  proj-bin proj-data python3-scour scour\n",
      "Use 'sudo apt autoremove' to remove them.\n",
      "0 upgraded, 0 newly installed, 0 to remove and 98 not upgraded.\n",
      "\u001b[33mDEPRECATION: Python 2.7 reached the end of its life on January 1st, 2020. Please upgrade your Python as Python 2.7 is no longer maintained. A future version of pip will drop support for Python 2.7. More details about Python 2 support in pip, can be found at https://pip.pypa.io/en/latest/development/release-process/#python-2-support\u001b[0m\n",
      "Requirement already satisfied: nibabel in /usr/local/lib/python2.7/dist-packages (2.5.1)\n",
      "Requirement already satisfied: six>=1.3 in /usr/lib/python2.7/dist-packages (from nibabel) (1.11.0)\n",
      "Requirement already satisfied: numpy>=1.8 in /usr/local/lib/python2.7/dist-packages (from nibabel) (1.16.6)\n",
      "Requirement already satisfied: bz2file; python_version < \"3.0\" in /usr/local/lib/python2.7/dist-packages (from nibabel) (0.98)\n",
      "\u001b[33mWARNING: You are using pip version 20.0.2; however, version 20.1.1 is available.\n",
      "You should consider upgrading via the '/usr/bin/python -m pip install --upgrade pip' command.\u001b[0m\n",
      "mkdir: cannot create directory ‘/usr/local/freesurfer/subjects’: File exists\n",
      "/usr/local/freesurfer\n",
      "/usr/local/freesurfer/subjects\n",
      "must use source to execute the script!\n"
     ]
    }
   ],
   "source": [
    "!source /projects/shibo/Visual-Feature-Attribution-Using-Wasserstein-GANs-Pytorch/ADNI_preprocessing/build_freesurfer.sh"
   ]
  },
  {
   "cell_type": "markdown",
   "metadata": {},
   "source": [
    "##### begin autorecon1 steps (first 5 steps in recon-all)\n",
    "##### remove all previous test results"
   ]
  },
  {
   "cell_type": "code",
   "execution_count": null,
   "metadata": {},
   "outputs": [],
   "source": [
    "rm -rf /usr/local/freesurfer/subjects/recon_test/ "
   ]
  },
  {
   "cell_type": "markdown",
   "metadata": {},
   "source": [
    "##### execute autorecon1 (5 steps)\n",
    "###### -motioncor: correct for small motions volumes and then average them together\n",
    "    inputs: orig.mgz  outputs: mri/orig.mgz \n",
    "###### -talairach: computes the affine transform from the orig volume to the MNI305 atlas using the MINC program mritotal\n",
    "    inputs: orig.mgz  outputs: transforms/talairach.xfm transforms/talairach_avi.log  \n",
    "###### -nuintensitycor:  corrects for intensity non-uniformity in MR data, making relatively few assumptions about the data\n",
    "    inputs: orig.mgz talairach.xfm  outputs:  mri/nu.mgz\n",
    "###### -normalization: performs intensity normalization of the orig volume and places the result in mri/T1.mgz\n",
    "    inputs: nu.mgz  outputs: mri/T1.mgz\n",
    "###### -skullstrip: removes the skull from mri/T1.mgz and stores the result in mri/brainmask.auto.mgz and mri/brainmask.mgz\n",
    "    inputs: nu.mgz  outputs: mri/brainmask.mgz"
   ]
  },
  {
   "cell_type": "code",
   "execution_count": null,
   "metadata": {},
   "outputs": [],
   "source": [
    "recon-all -i /projects/shibo/Visual-Feature-Attribution-Using-Wasserstein-GANs-Pytorch/ADNI_preprocessing/test_images/002_S_1018/ADNI_002_S_1018_MR_MPRAGE_br_raw_20061219201951192_1_S24311_I33831.dcm -subject recon_test -autorecon1    "
   ]
  },
  {
   "cell_type": "markdown",
   "metadata": {},
   "source": [
    "##### now begin fetching (clearing all fetched results)"
   ]
  },
  {
   "cell_type": "code",
   "execution_count": null,
   "metadata": {},
   "outputs": [],
   "source": [
    "!rm -rf fetch_preprocessed/\n",
    "!ls\n",
    "!mkdir fetch_preprocessed"
   ]
  },
  {
   "cell_type": "markdown",
   "metadata": {},
   "source": [
    "##### fetch motioncor"
   ]
  },
  {
   "cell_type": "code",
   "execution_count": null,
   "metadata": {},
   "outputs": [],
   "source": [
    "!mkdir fetch_preprocessed/motioncor\n",
    "!cp /usr/local/freesurfer/subjects/recon_test/mri/orig.mgz fetch_preprocessed/motioncor"
   ]
  },
  {
   "cell_type": "markdown",
   "metadata": {},
   "source": [
    "##### fetch nuintensitycor"
   ]
  },
  {
   "cell_type": "code",
   "execution_count": null,
   "metadata": {},
   "outputs": [],
   "source": [
    "!mkdir fetch_preprocessed/nuintensitycor\n",
    "!cp /usr/local/freesurfer/subjects/recon_test/mri/nu.mgz fetch_preprocessed/nuintensitycor\n",
    "!ls fetch_preprocessed/nuintensitycor/"
   ]
  },
  {
   "cell_type": "markdown",
   "metadata": {},
   "source": [
    "##### fetch talairach"
   ]
  },
  {
   "cell_type": "code",
   "execution_count": null,
   "metadata": {},
   "outputs": [],
   "source": [
    "!mkdir fetch_preprocessed/talairach\n",
    "!cp /usr/local/freesurfer/subjects/recon_test/mri/transforms/talairach_with_skull.lta fetch_preprocessed/talairach"
   ]
  },
  {
   "cell_type": "markdown",
   "metadata": {},
   "source": [
    "##### fetch normalization"
   ]
  },
  {
   "cell_type": "code",
   "execution_count": null,
   "metadata": {},
   "outputs": [],
   "source": [
    "!mkdir fetch_preprocessed/normalization\n",
    "!cp /usr/local/freesurfer/subjects/recon_test/mri/T1.mgz fetch_preprocessed/normalization"
   ]
  },
  {
   "cell_type": "markdown",
   "metadata": {},
   "source": [
    "##### fetch skullstrip"
   ]
  },
  {
   "cell_type": "code",
   "execution_count": null,
   "metadata": {},
   "outputs": [],
   "source": [
    "!mkdir fetch_preprocessed/skullstrip\n",
    "!cp /usr/local/freesurfer/subjects/recon_test/mri/brainmask.mgz fetch_preprocessed/skullstrip"
   ]
  },
  {
   "cell_type": "markdown",
   "metadata": {},
   "source": [
    "##### perform co-registration with mni-space"
   ]
  },
  {
   "cell_type": "code",
   "execution_count": 1,
   "metadata": {},
   "outputs": [
    {
     "name": "stdout",
     "output_type": "stream",
     "text": [
      "mgz2nii_fetched.sh: line 2: mri_convert: command not found\n",
      "mgz2nii_fetched.sh: line 3: mri_convert: command not found\n",
      "mgz2nii_fetched.sh: line 4: mri_convert: command not found\n",
      "mgz2nii_fetched.sh: line 5: mri_convert: command not found\n",
      "200526-10:18:32,548 nipype.utils INFO:\n",
      "\t No new version available.\n"
     ]
    }
   ],
   "source": [
    "# using freesurfer\n",
    "# !mkdir fetch_preprocessed/mni_registered\n",
    "# !mri_robust_register --mov fetch_preprocessed/skullstrip/brainmask.mgz --dst test_images/mni_space/mni_icbm152_t1_tal_nlin_asym_09c_mask.nii --lta fetch_preprocessed/mni_registered/reg.lta --satit \n",
    "# !mri_convert fetch_preprocessed/skullstrip/brainmask.mgz fetch_preprocessed/mni_registered/mni_reg.nii --apply_transform fetch_preprocessed/mni_registered/reg.lta\n",
    "\n",
    "# using spm\n",
    "!sh mgz2nii_fetched.sh\n",
    "!python3 spm_coregister.py"
   ]
  },
  {
   "cell_type": "markdown",
   "metadata": {},
   "source": [
    "##### .mgz to .nii conversion in all 5 folders\n"
   ]
  },
  {
   "cell_type": "code",
   "execution_count": null,
   "metadata": {},
   "outputs": [],
   "source": [
    "!sh mgz2nii_fetched.sh\n",
    "!ls fetch_preprocessed/motioncor fetch_preprocessed/nuintensitycor fetch_preprocessed/normalization fetch_preprocessed/talairach/ fetch_preprocessed/skullstrip"
   ]
  }
 ],
 "metadata": {
  "kernelspec": {
   "display_name": "Python 3",
   "language": "python",
   "name": "python3"
  },
  "language_info": {
   "codemirror_mode": {
    "name": "ipython",
    "version": 3
   },
   "file_extension": ".py",
   "mimetype": "text/x-python",
   "name": "python",
   "nbconvert_exporter": "python",
   "pygments_lexer": "ipython3",
   "version": "3.6.9"
  }
 },
 "nbformat": 4,
 "nbformat_minor": 2
}
