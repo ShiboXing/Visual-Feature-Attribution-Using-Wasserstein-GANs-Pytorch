{
 "cells": [
  {
   "cell_type": "markdown",
   "metadata": {},
   "source": [
    "##### build freesurfer and set up environmental variables"
   ]
  },
  {
   "cell_type": "code",
   "execution_count": null,
   "metadata": {},
   "outputs": [],
   "source": [
    "!source /projects/shibo/Visual-Feature-Attribution-Using-Wasserstein-GANs-Pytorch/ADNI_preprocessing/build_freesurfer.sh"
   ]
  },
  {
   "cell_type": "markdown",
   "metadata": {},
   "source": [
    "##### begin autorecon1 steps (first 5 steps in recon-all)\n",
    "##### remove all previous test results"
   ]
  },
  {
   "cell_type": "code",
   "execution_count": null,
   "metadata": {},
   "outputs": [],
   "source": [
    "rm -rf /usr/local/freesurfer/subjects/recon_test/ "
   ]
  },
  {
   "cell_type": "markdown",
   "metadata": {},
   "source": [
    "##### execute autorecon1 (5 steps)\n",
    "###### -motioncor: correct for small motions volumes and then average them together\n",
    "    inputs: orig.mgz  outputs: mri/orig.mgz \n",
    "###### -talairach: computes the affine transform from the orig volume to the MNI305 atlas using the MINC program mritotal\n",
    "    inputs: orig.mgz  outputs: transforms/talairach.xfm transforms/talairach_avi.log  \n",
    "###### -nuintensitycor:  corrects for intensity non-uniformity in MR data, making relatively few assumptions about the data\n",
    "    inputs: orig.mgz talairach.xfm  outputs:  mri/nu.mgz\n",
    "###### -normalization: performs intensity normalization of the orig volume and places the result in mri/T1.mgz\n",
    "    inputs: nu.mgz  outputs: mri/T1.mgz\n",
    "###### -skullstrip: removes the skull from mri/T1.mgz and stores the result in mri/brainmask.auto.mgz and mri/brainmask.mgz\n",
    "    inputs: nu.mgz  outputs: mri/brainmask.mgz"
   ]
  },
  {
   "cell_type": "code",
   "execution_count": null,
   "metadata": {},
   "outputs": [],
   "source": [
    "recon-all -i /projects/shibo/Visual-Feature-Attribution-Using-Wasserstein-GANs-Pytorch/ADNI_preprocessing/test_images/002_S_1018/ADNI_002_S_1018_MR_MPRAGE_br_raw_20061219201951192_1_S24311_I33831.dcm -subject recon_test -autorecon1    "
   ]
  },
  {
   "cell_type": "markdown",
   "metadata": {},
   "source": [
    "##### co-registration"
   ]
  },
  {
   "cell_type": "code",
   "execution_count": null,
   "metadata": {},
   "outputs": [],
   "source": []
  },
  {
   "cell_type": "markdown",
   "metadata": {},
   "source": [
    "##### now begin fetching (clearing all fetched results)"
   ]
  },
  {
   "cell_type": "code",
   "execution_count": null,
   "metadata": {},
   "outputs": [],
   "source": [
    "!rm -rf fetch_preprocessed/\n",
    "!ls\n",
    "!mkdir fetch_preprocessed"
   ]
  },
  {
   "cell_type": "markdown",
   "metadata": {},
   "source": [
    "##### fetch motioncor"
   ]
  },
  {
   "cell_type": "code",
   "execution_count": null,
   "metadata": {},
   "outputs": [],
   "source": [
    "!mkdir fetch_preprocessed/motioncor\n",
    "!cp /usr/local/freesurfer/subjects/recon_test/mri/orig.mgz fetch_preprocessed/motioncor"
   ]
  },
  {
   "cell_type": "markdown",
   "metadata": {},
   "source": [
    "##### fetch nuintensitycor"
   ]
  },
  {
   "cell_type": "code",
   "execution_count": null,
   "metadata": {},
   "outputs": [],
   "source": [
    "!mkdir fetch_preprocessed/nuintensitycor\n",
    "!cp /usr/local/freesurfer/subjects/recon_test/mri/nu.mgz fetch_preprocessed/nuintensitycor\n",
    "!ls fetch_preprocessed/nuintensitycor/"
   ]
  },
  {
   "cell_type": "markdown",
   "metadata": {},
   "source": [
    "##### fetch talairach"
   ]
  },
  {
   "cell_type": "code",
   "execution_count": null,
   "metadata": {},
   "outputs": [],
   "source": [
    "!mkdir fetch_preprocessed/talairach\n",
    "!cp /usr/local/freesurfer/subjects/recon_test/mri/transforms/talairach_with_skull.lta fetch_preprocessed/talairach"
   ]
  },
  {
   "cell_type": "markdown",
   "metadata": {},
   "source": [
    "##### fetch normalization"
   ]
  },
  {
   "cell_type": "code",
   "execution_count": null,
   "metadata": {},
   "outputs": [],
   "source": [
    "!mkdir fetch_preprocessed/normalization\n",
    "!cp /usr/local/freesurfer/subjects/recon_test/mri/T1.mgz fetch_preprocessed/normalization"
   ]
  },
  {
   "cell_type": "markdown",
   "metadata": {},
   "source": [
    "##### fetch skullstrip"
   ]
  },
  {
   "cell_type": "code",
   "execution_count": null,
   "metadata": {},
   "outputs": [],
   "source": [
    "!mkdir fetch_preprocessed/skullstrip\n",
    "!cp /usr/local/freesurfer/subjects/recon_test/mri/brainmask.mgz fetch_preprocessed/skullstrip"
   ]
  },
  {
   "cell_type": "markdown",
   "metadata": {},
   "source": [
    "##### .mgz to .nii conversion in all 5 folders\n"
   ]
  },
  {
   "cell_type": "code",
   "execution_count": null,
   "metadata": {},
   "outputs": [],
   "source": [
    "!sh mgz2nii_fetched.sh\n",
    "!ls fetch_preprocessed/motioncor fetch_preprocessed/nuintensitycor fetch_preprocessed/normalization fetch_preprocessed/talairach/ fetch_preprocessed/skullstrip"
   ]
  }
 ],
 "metadata": {
  "kernelspec": {
   "display_name": "Python 3",
   "language": "python",
   "name": "python3"
  },
  "language_info": {
   "codemirror_mode": {
    "name": "ipython",
    "version": 3
   },
   "file_extension": ".py",
   "mimetype": "text/x-python",
   "name": "python",
   "nbconvert_exporter": "python",
   "pygments_lexer": "ipython3",
   "version": "3.6.9"
  }
 },
 "nbformat": 4,
 "nbformat_minor": 2
}
