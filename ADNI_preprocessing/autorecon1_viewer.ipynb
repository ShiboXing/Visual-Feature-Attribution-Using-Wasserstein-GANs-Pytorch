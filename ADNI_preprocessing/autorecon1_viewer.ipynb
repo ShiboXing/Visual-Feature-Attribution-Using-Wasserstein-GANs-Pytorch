{
 "cells": [
  {
   "cell_type": "markdown",
   "metadata": {},
   "source": [
    "### this fetch script should be run after running the freesurfer autorecon1 steps\n",
    "##### commands e.g.:\n",
    "rm -rf /usr/local/freesurfer/subjects/recon_test/ \n",
    "\n",
    "recon-all -i test_images/002_S_0619/ADNI_002_S_0619_MR_MP-RAGE__br_raw_20060601215738863_1_S15147_I16392.hdr -subject recon_test -autorecon1     "
   ]
  },
  {
   "cell_type": "markdown",
   "metadata": {},
   "source": [
    "##### clearing all fetched results"
   ]
  },
  {
   "cell_type": "code",
   "execution_count": 21,
   "metadata": {},
   "outputs": [
    {
     "name": "stdout",
     "output_type": "stream",
     "text": [
      "mkdir: cannot create directory ‘fetch_preprocessed’: File exists\r\n"
     ]
    }
   ],
   "source": [
    "#!rm -rf fetch_preprocessed/\n",
    "#!ls\n",
    "!mkdir fetch_preprocessed"
   ]
  },
  {
   "cell_type": "markdown",
   "metadata": {},
   "source": [
    "### fetch motioncor"
   ]
  },
  {
   "cell_type": "code",
   "execution_count": 30,
   "metadata": {},
   "outputs": [
    {
     "name": "stdout",
     "output_type": "stream",
     "text": [
      "mkdir: cannot create directory ‘fetch_preprocessed/motioncor’: File exists\n",
      "/bin/sh: mri_convert: command not found\n",
      "orig.mgz\n"
     ]
    }
   ],
   "source": [
    "!mkdir fetch_preprocessed/motioncor\n",
    "!cp /usr/local/freesurfer/subjects/recon_test/mri/orig.mgz fetch_preprocessed/motioncor"
   ]
  },
  {
   "cell_type": "markdown",
   "metadata": {},
   "source": [
    "### nuintensitycor"
   ]
  },
  {
   "cell_type": "code",
   "execution_count": 23,
   "metadata": {},
   "outputs": [
    {
     "name": "stdout",
     "output_type": "stream",
     "text": [
      "mkdir: cannot create directory ‘fetch_preprocessed/nuintensitycor’: File exists\n",
      "nu.mgz\n"
     ]
    }
   ],
   "source": [
    "!mkdir fetch_preprocessed/nuintensitycor\n",
    "!cp /usr/local/freesurfer/subjects/recon_test/mri/nu.mgz fetch_preprocessed/nuintensitycor\n",
    "!ls fetch_preprocessed/nuintensitycor/"
   ]
  },
  {
   "cell_type": "markdown",
   "metadata": {},
   "source": [
    "### talairach"
   ]
  },
  {
   "cell_type": "code",
   "execution_count": 25,
   "metadata": {},
   "outputs": [
    {
     "name": "stdout",
     "output_type": "stream",
     "text": [
      "mkdir: cannot create directory ‘fetch_preprocessed/talairach’: File exists\n",
      "nu.mgz\ttalairach_with_skull.lta\n"
     ]
    }
   ],
   "source": [
    "!mkdir fetch_preprocessed/talairach\n",
    "!cp /usr/local/freesurfer/subjects/recon_test/mri/transforms/talairach_with_skull.lta fetch_preprocessed/talairach"
   ]
  },
  {
   "cell_type": "markdown",
   "metadata": {},
   "source": [
    "### normalization"
   ]
  },
  {
   "cell_type": "code",
   "execution_count": 29,
   "metadata": {},
   "outputs": [
    {
     "name": "stdout",
     "output_type": "stream",
     "text": [
      "mkdir: cannot create directory ‘fetch_preprocessed/normalization’: File exists\n",
      "T1.mgz\n"
     ]
    }
   ],
   "source": [
    "!mkdir fetch_preprocessed/normalization\n",
    "!cp /usr/local/freesurfer/subjects/recon_test/mri/T1.mgz fetch_preprocessed/normalization"
   ]
  },
  {
   "cell_type": "markdown",
   "metadata": {},
   "source": [
    "### skullstrip"
   ]
  },
  {
   "cell_type": "code",
   "execution_count": 28,
   "metadata": {},
   "outputs": [
    {
     "name": "stdout",
     "output_type": "stream",
     "text": [
      "brainmask.mgz\r\n"
     ]
    }
   ],
   "source": [
    "!mkdir fetch_preprocessed/skullstrip\n",
    "!cp /usr/local/freesurfer/subjects/recon_test/mri/brainmask.mgz fetch_preprocessed/skullstrip"
   ]
  },
  {
   "cell_type": "markdown",
   "metadata": {},
   "source": [
    "##### .mgz to .nii conversion"
   ]
  },
  {
   "cell_type": "code",
   "execution_count": 33,
   "metadata": {},
   "outputs": [
    {
     "name": "stdout",
     "output_type": "stream",
     "text": [
      "sh: mri_convert: command not found\n",
      "fetch_preprocessed/motioncor:\n",
      "orig.mgz\n",
      "\n",
      "fetch_preprocessed/normalization:\n",
      "T1.mgz\n",
      "\n",
      "fetch_preprocessed/nuintensitycor:\n",
      "nu.mgz\n",
      "\n",
      "fetch_preprocessed/skullstrip:\n",
      "brainmask.mgz\n",
      "\n",
      "fetch_preprocessed/talairach/:\n",
      "nu.mgz\ttalairach_with_skull.lta\n"
     ]
    }
   ],
   "source": [
    "!python3 mgz2nii.py\n",
    "!ls fetch_preprocessed/motioncor fetch_preprocessed/nuintensitycor fetch_preprocessed/normalization fetch_preprocessed/talairach/ fetch_preprocessed/skullstrip"
   ]
  }
 ],
 "metadata": {
  "kernelspec": {
   "display_name": "Python 3",
   "language": "python",
   "name": "python3"
  },
  "language_info": {
   "codemirror_mode": {
    "name": "ipython",
    "version": 3
   },
   "file_extension": ".py",
   "mimetype": "text/x-python",
   "name": "python",
   "nbconvert_exporter": "python",
   "pygments_lexer": "ipython3",
   "version": "3.6.9"
  }
 },
 "nbformat": 4,
 "nbformat_minor": 2
}
